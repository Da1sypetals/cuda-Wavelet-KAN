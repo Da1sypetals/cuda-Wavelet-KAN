{
 "cells": [
  {
   "cell_type": "code",
   "execution_count": 191,
   "metadata": {},
   "outputs": [],
   "source": [
    "import torch\n",
    "import torch.nn as nn\n",
    "device = torch.device('cuda:0')\n",
    "import mexhat_ops\n",
    "import gemm_ops\n",
    "import numpy as np\n",
    "from tqdm import tqdm\n",
    "import time\n",
    "\n",
    "def gtfwd(a, b, c, d):\n",
    "    return mexhat_ops.forward(a, b.T.contiguous(), c.T.contiguous(), d.T.contiguous(), )"
   ]
  },
  {
   "cell_type": "code",
   "execution_count": 193,
   "metadata": {},
   "outputs": [
    {
     "name": "stderr",
     "output_type": "stream",
     "text": [
      "  0%|          | 1/200 [00:00<02:12,  1.50it/s]"
     ]
    },
    {
     "name": "stdout",
     "output_type": "stream",
     "text": [
      "max diff = 6.4849853515625e-05\n",
      "tensor(4.4799e-07, device='cuda:0')\n"
     ]
    },
    {
     "name": "stderr",
     "output_type": "stream",
     "text": [
      "  1%|          | 2/200 [00:01<02:08,  1.53it/s]"
     ]
    },
    {
     "name": "stdout",
     "output_type": "stream",
     "text": [
      "max diff = 6.4849853515625e-05\n"
     ]
    },
    {
     "name": "stderr",
     "output_type": "stream",
     "text": [
      "  2%|▏         | 3/200 [00:01<02:07,  1.55it/s]"
     ]
    },
    {
     "name": "stdout",
     "output_type": "stream",
     "text": [
      "max diff = 6.866455078125e-05\n"
     ]
    },
    {
     "name": "stderr",
     "output_type": "stream",
     "text": [
      "  2%|▏         | 4/200 [00:02<02:06,  1.55it/s]"
     ]
    },
    {
     "name": "stdout",
     "output_type": "stream",
     "text": [
      "max diff = 7.2479248046875e-05\n"
     ]
    },
    {
     "name": "stderr",
     "output_type": "stream",
     "text": [
      "  2%|▎         | 5/200 [00:03<02:00,  1.62it/s]"
     ]
    },
    {
     "name": "stdout",
     "output_type": "stream",
     "text": [
      "max diff = 7.2479248046875e-05\n"
     ]
    },
    {
     "name": "stderr",
     "output_type": "stream",
     "text": [
      "  3%|▎         | 6/200 [00:03<01:57,  1.65it/s]"
     ]
    },
    {
     "name": "stdout",
     "output_type": "stream",
     "text": [
      "max diff = 7.05718994140625e-05\n"
     ]
    },
    {
     "name": "stderr",
     "output_type": "stream",
     "text": [
      "  4%|▎         | 7/200 [00:04<01:54,  1.68it/s]"
     ]
    },
    {
     "name": "stdout",
     "output_type": "stream",
     "text": [
      "max diff = 7.62939453125e-05\n"
     ]
    },
    {
     "name": "stderr",
     "output_type": "stream",
     "text": [
      "  4%|▍         | 8/200 [00:04<01:56,  1.64it/s]"
     ]
    },
    {
     "name": "stdout",
     "output_type": "stream",
     "text": [
      "max diff = 6.866455078125e-05\n"
     ]
    },
    {
     "name": "stderr",
     "output_type": "stream",
     "text": [
      "  4%|▍         | 9/200 [00:05<01:53,  1.68it/s]"
     ]
    },
    {
     "name": "stdout",
     "output_type": "stream",
     "text": [
      "max diff = 8.392333984375e-05\n"
     ]
    },
    {
     "name": "stderr",
     "output_type": "stream",
     "text": [
      "  5%|▌         | 10/200 [00:06<01:52,  1.69it/s]"
     ]
    },
    {
     "name": "stdout",
     "output_type": "stream",
     "text": [
      "max diff = 6.67572021484375e-05\n"
     ]
    },
    {
     "name": "stderr",
     "output_type": "stream",
     "text": [
      "  6%|▌         | 11/200 [00:06<01:50,  1.71it/s]"
     ]
    },
    {
     "name": "stdout",
     "output_type": "stream",
     "text": [
      "max diff = 7.2479248046875e-05\n"
     ]
    },
    {
     "name": "stderr",
     "output_type": "stream",
     "text": [
      "  6%|▌         | 12/200 [00:07<01:52,  1.66it/s]"
     ]
    },
    {
     "name": "stdout",
     "output_type": "stream",
     "text": [
      "max diff = 8.392333984375e-05\n"
     ]
    },
    {
     "name": "stderr",
     "output_type": "stream",
     "text": [
      "  6%|▋         | 13/200 [00:08<01:55,  1.62it/s]"
     ]
    },
    {
     "name": "stdout",
     "output_type": "stream",
     "text": [
      "max diff = 7.2479248046875e-05\n"
     ]
    },
    {
     "name": "stderr",
     "output_type": "stream",
     "text": [
      "\n"
     ]
    },
    {
     "ename": "KeyboardInterrupt",
     "evalue": "",
     "output_type": "error",
     "traceback": [
      "\u001b[0;31m---------------------------------------------------------------------------\u001b[0m",
      "\u001b[0;31mKeyboardInterrupt\u001b[0m                         Traceback (most recent call last)",
      "Cell \u001b[0;32mIn[193], line 17\u001b[0m\n\u001b[1;32m     13\u001b[0m weight2 \u001b[38;5;241m=\u001b[39m torch\u001b[38;5;241m.\u001b[39mrandn(out_feats, n2)\u001b[38;5;241m.\u001b[39mto(device)\n\u001b[1;32m     16\u001b[0m gt \u001b[38;5;241m=\u001b[39m gtfwd(x, scale1, bias1, weight1)\n\u001b[0;32m---> 17\u001b[0m y \u001b[38;5;241m=\u001b[39m \u001b[43mgemm_ops\u001b[49m\u001b[38;5;241;43m.\u001b[39;49m\u001b[43mforward\u001b[49m\u001b[43m(\u001b[49m\u001b[43mx\u001b[49m\u001b[43m,\u001b[49m\u001b[43m \u001b[49m\u001b[43mscale1\u001b[49m\u001b[43m,\u001b[49m\u001b[43m \u001b[49m\u001b[43mbias1\u001b[49m\u001b[43m,\u001b[49m\u001b[43m \u001b[49m\u001b[43mweight1\u001b[49m\u001b[43m)\u001b[49m\n\u001b[1;32m     19\u001b[0m time\u001b[38;5;241m.\u001b[39msleep(\u001b[38;5;241m0.5\u001b[39m)\n\u001b[1;32m     21\u001b[0m \u001b[38;5;66;03m# gt = gtfwd(gt, scale2, bias2, weight2)\u001b[39;00m\n\u001b[1;32m     22\u001b[0m \u001b[38;5;66;03m# y = gemm_ops.forward(y, scale2, bias2, weight2)\u001b[39;00m\n",
      "\u001b[0;31mKeyboardInterrupt\u001b[0m: "
     ]
    }
   ],
   "source": [
    "batch_size, in_feats, out_feats, n2 = 128, 768, 512, 512\n",
    "\n",
    "\n",
    "I = 200\n",
    "for i in tqdm(range(I)):\n",
    "    x = torch.randn(batch_size, in_feats).to(device)\n",
    "    scale1 = torch.randn(in_feats, out_feats).to(device)\n",
    "    bias1 = torch.randn(in_feats, out_feats).to(device)\n",
    "    weight1 = torch.randn(in_feats, out_feats).to(device)\n",
    "\n",
    "    scale2 = torch.randn(out_feats, n2).to(device)\n",
    "    bias2 = torch.randn(out_feats, n2).to(device)\n",
    "    weight2 = torch.randn(out_feats, n2).to(device)\n",
    "\n",
    "\n",
    "    gt = gtfwd(x, scale1, bias1, weight1)\n",
    "    y = gemm_ops.forward(x, scale1, bias1, weight1)\n",
    "\n",
    "    time.sleep(0.5)\n",
    "\n",
    "    # gt = gtfwd(gt, scale2, bias2, weight2)\n",
    "    # y = gemm_ops.forward(y, scale2, bias2, weight2)\n",
    "\n",
    "    reltol = 1e-5\n",
    "    reldiff = reltol * gt\n",
    "    print(f'max diff = {abs(gt-y).max()}')\n",
    "    diff = abs(gt-y).mean() - abs(reldiff).mean()\n",
    "    ratio = abs(gt-y).mean() / abs(reldiff).mean()\n",
    "\n",
    "    if diff > 0:\n",
    "        rd = ratio * reltol\n",
    "        print(rd.item())\n",
    "        print('\\n' + '-'*10 + 'fail' + '-'*10)\n",
    "        print(gt)\n",
    "        print(y)\n",
    "        break\n",
    "\n",
    "    if i % 100 == 0:\n",
    "        z = ratio * reltol\n",
    "        print(z)\n",
    "\n",
    "    if i == I - 1:\n",
    "        print('correct')\n",
    "\n"
   ]
  },
  {
   "cell_type": "code",
   "execution_count": null,
   "metadata": {},
   "outputs": [],
   "source": []
  },
  {
   "cell_type": "code",
   "execution_count": 23,
   "metadata": {},
   "outputs": [],
   "source": [
    "import torch\n",
    "import torch.nn as nn\n",
    "device = torch.device('cuda:0')\n",
    "import mmops\n",
    "import time\n",
    "import numpy as np"
   ]
  },
  {
   "cell_type": "code",
   "execution_count": 190,
   "metadata": {},
   "outputs": [
    {
     "name": "stdout",
     "output_type": "stream",
     "text": [
      "tensor(0.0002, device='cuda:0')\n",
      "tensor(3.0772e-05, device='cuda:0')\n"
     ]
    }
   ],
   "source": [
    "M, N, K = 128, 128, 128\n",
    "B = 256\n",
    "\n",
    "I = 1\n",
    "for i in range(I):\n",
    "    a = torch.randn(M, K).to(device)\n",
    "    b = torch.randn(K, N).to(device)\n",
    "    c = torch.randn(N, B).to(device)\n",
    "\n",
    "    u = nn.functional.linear(a, b.T)\n",
    "    w = mmops.matmul_new(a, b)\n",
    "\n",
    "    u = nn.functional.linear(u, c.T)\n",
    "    w = mmops.matmul(w, c)\n",
    "\n",
    "    reltol = 1e-5\n",
    "    reldiff = reltol * u\n",
    "    print(abs(u-w).max())\n",
    "    print(abs(u-w).mean())\n",
    "    # diff = abs(u-w).mean() - abs(reldiff).mean()\n",
    "    # ratio = abs(u-w).mean() / abs(reldiff).mean()\n",
    "\n",
    "    # if diff > 0:\n",
    "    #     print(diff)\n",
    "    #     print(u)\n",
    "    #     print(w)\n",
    "    #     print('fail')\n",
    "    #     break\n",
    "    # if i == I - 1:\n",
    "    #     print('correct')\n",
    "    \n"
   ]
  },
  {
   "cell_type": "code",
   "execution_count": 143,
   "metadata": {},
   "outputs": [
    {
     "name": "stdout",
     "output_type": "stream",
     "text": [
      "tensor(-1.1721e-09, device='cuda:0')\n"
     ]
    }
   ],
   "source": [
    "print((u-w).mean())"
   ]
  },
  {
   "cell_type": "code",
   "execution_count": 114,
   "metadata": {},
   "outputs": [
    {
     "data": {
      "text/plain": [
       "tensor([[-1.1335,  0.7884,  2.3621,  ..., -0.9079, -1.6368, -1.5175],\n",
       "        [-2.3480,  1.0714, -0.9907,  ..., -2.0680, -0.6640, -0.9950],\n",
       "        [-0.6249, -0.3968,  0.7080,  ...,  0.1292,  0.4197,  0.2534],\n",
       "        ...,\n",
       "        [-0.8842,  1.7174,  1.2561,  ..., -1.4580, -0.5914,  1.2905],\n",
       "        [-1.3811,  1.3207,  0.3373,  ...,  1.0310,  0.6368, -1.4615],\n",
       "        [ 0.0826,  1.3893, -0.4246,  ...,  0.3244,  1.0722,  0.7935]],\n",
       "       device='cuda:0')"
      ]
     },
     "execution_count": 114,
     "metadata": {},
     "output_type": "execute_result"
    }
   ],
   "source": [
    "b"
   ]
  },
  {
   "cell_type": "code",
   "execution_count": 115,
   "metadata": {},
   "outputs": [
    {
     "data": {
      "text/plain": [
       "tensor([[ 19.6997,  -9.1748,  24.6209,  ...,  -9.3182,  -8.7224,   2.2500],\n",
       "        [  5.8683,  -1.7790, -17.8242,  ...,  -1.5462,  -6.6428,  -0.8986],\n",
       "        [-30.3215,  15.0222,  -0.3260,  ...,  11.7170,  -3.5433,   4.2187],\n",
       "        ...,\n",
       "        [ 15.7976, -15.8519,   7.6004,  ..., -12.3417, -15.5606,  -1.8131],\n",
       "        [  8.5211,  -0.2519,  21.4157,  ...,   1.9600, -18.2365,   4.2892],\n",
       "        [  0.4466,  -4.4348, -13.0536,  ...,   1.4966,   5.1205,  -2.6607]],\n",
       "       device='cuda:0')"
      ]
     },
     "execution_count": 115,
     "metadata": {},
     "output_type": "execute_result"
    }
   ],
   "source": [
    "a@b"
   ]
  },
  {
   "cell_type": "code",
   "execution_count": 116,
   "metadata": {},
   "outputs": [
    {
     "data": {
      "text/plain": [
       "tensor([[ 19.6997,  -9.1748,  24.6209,  ...,  -9.3182,  -8.7224,   2.2500],\n",
       "        [  5.8683,  -1.7790, -17.8242,  ...,  -1.5462,  -6.6428,  -0.8986],\n",
       "        [-30.3215,  15.0222,  -0.3260,  ...,  11.7170,  -3.5433,   4.2187],\n",
       "        ...,\n",
       "        [ 15.7976, -15.8519,   7.6004,  ..., -12.3417, -15.5606,  -1.8131],\n",
       "        [  8.5211,  -0.2519,  21.4157,  ...,   1.9600, -18.2365,   4.2892],\n",
       "        [  0.4466,  -4.4348, -13.0536,  ...,   1.4966,   5.1205,  -2.6607]],\n",
       "       device='cuda:0')"
      ]
     },
     "execution_count": 116,
     "metadata": {},
     "output_type": "execute_result"
    }
   ],
   "source": [
    "w\n"
   ]
  },
  {
   "cell_type": "code",
   "execution_count": 123,
   "metadata": {},
   "outputs": [
    {
     "data": {
      "text/plain": [
       "tensor([[1.4305e-06, 0.0000e+00, 2.3842e-06,  ..., 1.8775e-06, 2.3842e-07,\n",
       "         2.3842e-07],\n",
       "        [0.0000e+00, 7.1526e-07, 7.1526e-07,  ..., 8.3447e-07, 9.5367e-07,\n",
       "         1.4305e-06],\n",
       "        [2.8610e-06, 9.5367e-07, 0.0000e+00,  ..., 1.9073e-06, 7.1526e-07,\n",
       "         2.8610e-06],\n",
       "        ...,\n",
       "        [4.2915e-06, 3.8147e-06, 0.0000e+00,  ..., 1.4305e-06, 4.7684e-07,\n",
       "         1.6689e-06],\n",
       "        [4.7684e-07, 5.7220e-06, 4.7684e-06,  ..., 0.0000e+00, 4.7684e-07,\n",
       "         1.6689e-06],\n",
       "        [9.5367e-07, 9.5367e-07, 0.0000e+00,  ..., 9.5367e-07, 9.5367e-07,\n",
       "         2.6226e-06]], device='cuda:0')"
      ]
     },
     "execution_count": 123,
     "metadata": {},
     "output_type": "execute_result"
    }
   ],
   "source": [
    "abs((u-w))"
   ]
  },
  {
   "cell_type": "code",
   "execution_count": 124,
   "metadata": {},
   "outputs": [
    {
     "data": {
      "text/plain": [
       "tensor([[ 7.2985,  2.4518,  7.1181,  ...,  0.3825,  2.7120,  1.9256],\n",
       "        [18.7307,  3.2470,  3.9668,  ...,  1.9174,  4.8413,  5.5221],\n",
       "        [10.3170,  4.2650, 17.4981,  ..., 10.4715,  0.4542, 10.9597],\n",
       "        ...,\n",
       "        [ 7.9962, 20.9019, 11.6732,  ...,  5.3086,  2.5294,  2.2046],\n",
       "        [ 5.3072, 11.3881, 10.6650,  ...,  4.6941,  5.5714,  1.4418],\n",
       "        [ 9.2655, 10.0611,  4.9043,  ...,  4.8464,  6.6865,  3.8165]],\n",
       "       device='cuda:0')"
      ]
     },
     "execution_count": 124,
     "metadata": {},
     "output_type": "execute_result"
    }
   ],
   "source": [
    "abs(u)"
   ]
  },
  {
   "cell_type": "code",
   "execution_count": null,
   "metadata": {},
   "outputs": [],
   "source": []
  },
  {
   "cell_type": "code",
   "execution_count": null,
   "metadata": {},
   "outputs": [],
   "source": []
  },
  {
   "cell_type": "code",
   "execution_count": null,
   "metadata": {},
   "outputs": [],
   "source": []
  },
  {
   "cell_type": "code",
   "execution_count": null,
   "metadata": {},
   "outputs": [],
   "source": []
  },
  {
   "cell_type": "code",
   "execution_count": null,
   "metadata": {},
   "outputs": [],
   "source": []
  },
  {
   "cell_type": "code",
   "execution_count": null,
   "metadata": {},
   "outputs": [],
   "source": []
  },
  {
   "cell_type": "code",
   "execution_count": null,
   "metadata": {},
   "outputs": [],
   "source": []
  }
 ],
 "metadata": {
  "kernelspec": {
   "display_name": "playground",
   "language": "python",
   "name": "python3"
  },
  "language_info": {
   "codemirror_mode": {
    "name": "ipython",
    "version": 3
   },
   "file_extension": ".py",
   "mimetype": "text/x-python",
   "name": "python",
   "nbconvert_exporter": "python",
   "pygments_lexer": "ipython3",
   "version": "3.10.13"
  }
 },
 "nbformat": 4,
 "nbformat_minor": 2
}
